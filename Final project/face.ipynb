version https://git-lfs.github.com/spec/v1
oid sha256:f86b3af27b9d78809348ba195996f45ab488576ef4f5e8607f7dcd62d34748fa
size 21707
