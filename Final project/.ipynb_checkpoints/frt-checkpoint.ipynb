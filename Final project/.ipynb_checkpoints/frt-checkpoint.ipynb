version https://git-lfs.github.com/spec/v1
oid sha256:13a5d24a878136416e1d74527ae92f08508f17753d1a9d15a36ee49398812766
size 13723
