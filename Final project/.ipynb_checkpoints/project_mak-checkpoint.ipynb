version https://git-lfs.github.com/spec/v1
oid sha256:6072554066fbd0bbadce6b6947be41cc7ed19445d35824ab35930f89cd41b774
size 11823
