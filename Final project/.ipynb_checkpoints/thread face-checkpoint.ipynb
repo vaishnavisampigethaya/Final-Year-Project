{
 "cells": [
  {
   "cell_type": "code",
   "execution_count": 80,
   "metadata": {},
   "outputs": [],
   "source": [
    "from keras.layers import Input,Lambda,Dense,Flatten\n",
    "from keras.models import Model\n",
    "from keras.applications.vgg16 import VGG16\n",
    "from keras.applications.vgg16 import preprocess_input\n",
    "from keras.preprocessing import image\n",
    "from keras.preprocessing.image import ImageDataGenerator\n",
    "from keras.models import Sequential\n",
    "import numpy as np\n",
    "from glob import glob\n",
    "import matplotlib.pyplot as plt\n",
    "import os\n",
    "import cv2\n",
    "import tensorflow as tf\n",
    "from keras.applications.vgg16 import decode_predictions\n",
    "from threading import current_thread, Thread, Lock\n",
    "from multiprocessing import Queue"
   ]
  },
  {
   "cell_type": "code",
   "execution_count": 81,
   "metadata": {},
   "outputs": [],
   "source": [
    "categories=['train','test']\n",
    "categories1=['without_mask','with_mask']\n"
   ]
  },
  {
   "cell_type": "code",
   "execution_count": 82,
   "metadata": {},
   "outputs": [],
   "source": [
    "data1=[]\n",
    "for category in categories1:\n",
    "    path=os.path.join('Dataset',category)\n",
    "    label1=categories1.index(category)\n",
    "    for file in os.listdir(path):\n",
    "       img_path=os.path.join(path,file)\n",
    "       img=cv2.imread(img_path)\n",
    "       img=cv2.resize(img,(224,224))\n",
    "       data1.append([img,label1])\n",
    "    "
   ]
  },
  {
   "cell_type": "code",
   "execution_count": 83,
   "metadata": {},
   "outputs": [],
   "source": [
    "data=[]\n",
    "cate=[]\n",
    "for category in categories:\n",
    "    path=os.path.join('Dataset',category)\n",
    "    for file in os.listdir(path):\n",
    "        if not file.startswith('.'):\n",
    "            img_path=os.path.join(path,file)\n",
    "            cate.append(file)\n",
    "            label=cate.index(file)\n",
    "            files=os.listdir(img_path)\n",
    "            for i in files:\n",
    "                p=os.path.join(img_path,i)\n",
    "                img_path=os.path.join(path,file)\n",
    "                #print(p)\n",
    "                img=cv2.imread(p)\n",
    "                img=cv2.resize(img,(224,224))\n",
    "                data.append([img,label])\n"
   ]
  },
  {
   "cell_type": "code",
   "execution_count": 84,
   "metadata": {},
   "outputs": [],
   "source": [
    "import random"
   ]
  },
  {
   "cell_type": "code",
   "execution_count": 85,
   "metadata": {},
   "outputs": [],
   "source": [
    "random.shuffle(data1)"
   ]
  },
  {
   "cell_type": "code",
   "execution_count": 86,
   "metadata": {},
   "outputs": [],
   "source": [
    "x1=[]\n",
    "y1=[]\n",
    "for features1,label1 in data1:\n",
    "    x1.append(features1)\n",
    "    y1.append(label1) "
   ]
  },
  {
   "cell_type": "code",
   "execution_count": 87,
   "metadata": {},
   "outputs": [],
   "source": [
    "import numpy as np"
   ]
  },
  {
   "cell_type": "code",
   "execution_count": 88,
   "metadata": {},
   "outputs": [],
   "source": [
    "x1=np.array(x1)\n",
    "y1=np.array(y1)"
   ]
  },
  {
   "cell_type": "code",
   "execution_count": 89,
   "metadata": {},
   "outputs": [
    {
     "data": {
      "text/plain": [
       "(1965,)"
      ]
     },
     "execution_count": 89,
     "metadata": {},
     "output_type": "execute_result"
    }
   ],
   "source": [
    "x1.shape\n",
    "y1.shape"
   ]
  },
  {
   "cell_type": "code",
   "execution_count": 90,
   "metadata": {},
   "outputs": [],
   "source": [
    "x1=x1/255"
   ]
  },
  {
   "cell_type": "code",
   "execution_count": 91,
   "metadata": {},
   "outputs": [
    {
     "data": {
      "text/plain": [
       "array([[[0.87058824, 0.87058824, 0.87058824],\n",
       "        [0.87058824, 0.87058824, 0.87058824],\n",
       "        [0.87058824, 0.87058824, 0.87058824],\n",
       "        ...,\n",
       "        [0.9254902 , 0.9254902 , 0.9254902 ],\n",
       "        [0.9254902 , 0.9254902 , 0.9254902 ],\n",
       "        [0.9254902 , 0.9254902 , 0.9254902 ]],\n",
       "\n",
       "       [[0.87058824, 0.87058824, 0.87058824],\n",
       "        [0.87058824, 0.87058824, 0.87058824],\n",
       "        [0.87058824, 0.87058824, 0.87058824],\n",
       "        ...,\n",
       "        [0.9254902 , 0.9254902 , 0.9254902 ],\n",
       "        [0.9254902 , 0.9254902 , 0.9254902 ],\n",
       "        [0.9254902 , 0.9254902 , 0.9254902 ]],\n",
       "\n",
       "       [[0.87058824, 0.87058824, 0.87058824],\n",
       "        [0.87058824, 0.87058824, 0.87058824],\n",
       "        [0.87058824, 0.87058824, 0.87058824],\n",
       "        ...,\n",
       "        [0.9254902 , 0.9254902 , 0.9254902 ],\n",
       "        [0.9254902 , 0.9254902 , 0.9254902 ],\n",
       "        [0.9254902 , 0.9254902 , 0.9254902 ]],\n",
       "\n",
       "       ...,\n",
       "\n",
       "       [[0.70980392, 0.6627451 , 0.6627451 ],\n",
       "        [0.71372549, 0.66666667, 0.66666667],\n",
       "        [0.71372549, 0.66666667, 0.66666667],\n",
       "        ...,\n",
       "        [0.78823529, 0.76862745, 0.77254902],\n",
       "        [0.77254902, 0.75294118, 0.75686275],\n",
       "        [0.76862745, 0.74901961, 0.75294118]],\n",
       "\n",
       "       [[0.71372549, 0.66666667, 0.66666667],\n",
       "        [0.72941176, 0.68235294, 0.68235294],\n",
       "        [0.72156863, 0.6745098 , 0.6745098 ],\n",
       "        ...,\n",
       "        [0.78431373, 0.76470588, 0.76862745],\n",
       "        [0.76862745, 0.74901961, 0.75294118],\n",
       "        [0.76470588, 0.74509804, 0.74901961]],\n",
       "\n",
       "       [[0.71372549, 0.66666667, 0.66666667],\n",
       "        [0.72941176, 0.68235294, 0.68235294],\n",
       "        [0.72156863, 0.6745098 , 0.6745098 ],\n",
       "        ...,\n",
       "        [0.78431373, 0.76470588, 0.76862745],\n",
       "        [0.76862745, 0.74901961, 0.75294118],\n",
       "        [0.76470588, 0.74509804, 0.74901961]]])"
      ]
     },
     "execution_count": 91,
     "metadata": {},
     "output_type": "execute_result"
    }
   ],
   "source": [
    "x1[0]"
   ]
  },
  {
   "cell_type": "code",
   "execution_count": 92,
   "metadata": {},
   "outputs": [],
   "source": [
    "from sklearn.model_selection  import train_test_split\n",
    "x_train1,x_test1,y_train1,y_test1=train_test_split(x1,y1,test_size=0.2)"
   ]
  },
  {
   "cell_type": "code",
   "execution_count": 93,
   "metadata": {},
   "outputs": [
    {
     "data": {
      "text/plain": [
       "(393, 224, 224, 3)"
      ]
     },
     "execution_count": 93,
     "metadata": {},
     "output_type": "execute_result"
    }
   ],
   "source": [
    "x_train1.shape\n",
    "x_test1.shape"
   ]
  },
  {
   "cell_type": "code",
   "execution_count": 94,
   "metadata": {},
   "outputs": [],
   "source": [
    "batch_size = 50\n",
    "num_train_images = x_train1.shape[0]/2\n",
    "num_test_images = x_test1.shape[0]/2\n",
    "num_train_threads = int(num_train_images/batch_size)  # 50\n",
    "num_test_threads = int(num_test_images/batch_size)    # 25\n",
    "lock = Lock()"
   ]
  },
  {
   "cell_type": "code",
   "execution_count": 95,
   "metadata": {},
   "outputs": [],
   "source": [
    "def initialize_queue():\n",
    "    queue = Queue()\n",
    "    return queue"
   ]
  },
  {
   "cell_type": "code",
   "execution_count": 96,
   "metadata": {},
   "outputs": [],
   "source": [
    "def get_img_array_labels(fpaths, queue):\n",
    "    img_array=None\n",
    "    for i in range(0,x_train1.shape[0]):\n",
    "        if img_array==None:\n",
    "            img_array = x_train1[i]\n",
    "        else:\n",
    "            img_array = np.vstack((img_array, x_train1[i]))\n",
    "    queue.put((img_array, label1))\n",
    "    "
   ]
  },
  {
   "cell_type": "code",
   "execution_count": 97,
   "metadata": {},
   "outputs": [],
   "source": [
    "def get_img_array_labels1(fpaths, queue):\n",
    "    img_array=None\n",
    "    for i in range(0,x_test1.shape[0]):\n",
    "        if img_array==None:\n",
    "            img_array = x_test1[i]\n",
    "        else:\n",
    "            img_array = np.vstack((img_array, x_train1[i]))\n",
    "    queue.put((img_array, label1))"
   ]
  },
  {
   "cell_type": "code",
   "execution_count": 98,
   "metadata": {},
   "outputs": [],
   "source": [
    "def get_img_array(fpaths, queue):\n",
    "    img_array = None\n",
    "    for i in range(0,x_train1.shape[0]):\n",
    "        if img_array is None:\n",
    "            img_array = img\n",
    "        else:\n",
    "            img_array = np.vstack((img_array, img))        \n",
    "    queue.put(img_array)"
   ]
  },
  {
   "cell_type": "code",
   "execution_count": 99,
   "metadata": {},
   "outputs": [],
   "source": [
    "def get_img_array1(fpaths, queue):\n",
    "    img_array = None\n",
    "    for i in range(0,x_test1.shape[0]):\n",
    "        if img_array is None:\n",
    "            img_array = img\n",
    "        else:\n",
    "            img_array = np.vstack((img_array, img))        \n",
    "    queue.put(img_array)"
   ]
  },
  {
   "cell_type": "code",
   "execution_count": 100,
   "metadata": {},
   "outputs": [],
   "source": [
    "def dump_array(fname,arr):\n",
    "    with open(fname,'wb') as f:\n",
    "        pickle.dump(arr,f)"
   ]
  },
  {
   "cell_type": "code",
   "execution_count": 101,
   "metadata": {},
   "outputs": [],
   "source": [
    "def get_training_data():\n",
    "    threads_list = list()\n",
    "    train_x = None\n",
    "    train_y = []\n",
    "    queue = initialize_queue()\n",
    "    # iterate over num of threads to create\n",
    "    for thread_index in range(num_train_threads):\n",
    "        start_index = thread_index * batch_size\n",
    "        end_index = (thread_index + 1) * batch_size\n",
    "        file_batch = x_train1[start_index:end_index]\n",
    "        thread = Thread(target =get_img_array_labels, args=(file_batch, queue))\n",
    "        thread.start()\n",
    "        print(\"Thread: {}, start index: {}, end index: {}\".format(thread.name, start_index, end_index))\n",
    "        threads_list.append(thread)\n",
    "    \n",
    "    # join threads\n",
    "    for t in threads_list:\n",
    "        t.join()\n",
    "    while not queue.empty():\n",
    "        arr, labels = queue.get()\n",
    "        train_y.extend(label1)\n",
    "        if train_x is None:\n",
    "            train_x = arr\n",
    "        else:\n",
    "            train_x = np.vstack((train_x, arr))\n",
    "    return train_x, train_y"
   ]
  },
  {
   "cell_type": "code",
   "execution_count": 102,
   "metadata": {},
   "outputs": [],
   "source": [
    "def get_testing_data():\n",
    "    threads_list = list()\n",
    "    test_x = None\n",
    "    queue = initialize_queue()\n",
    "    # iterate over num of threads to create\n",
    "    for thread_index in range(num_test_threads):\n",
    "        start_index = thread_index * batch_size\n",
    "        end_index = (thread_index + 1) * batch_size\n",
    "        file_batch = x_test1[start_index:end_index]\n",
    "        thread = Thread(target =get_img_array1, args=(file_batch, queue))\n",
    "        thread.start()\n",
    "        print(\"Thread: {}, start index: {}, end index: {}\".format(thread.name, start_index, end_index))\n",
    "        threads_list.append(thread)\n",
    "        for t in threads_list:\n",
    "            t.join()\n",
    "        print(\"Thread: {} joined\", t.name)\n",
    "    while not queue.empty():\n",
    "        arr= queue.get()\n",
    "        if test_x is None:\n",
    "            test_x = arr\n",
    "        else:\n",
    "            test_x = np.vstack((test_x, arr))\n",
    "    return test_x"
   ]
  },
  {
   "cell_type": "code",
   "execution_count": 103,
   "metadata": {},
   "outputs": [],
   "source": [
    "from tensorflow.keras.applications.vgg16 import VGG16"
   ]
  },
  {
   "cell_type": "code",
   "execution_count": 104,
   "metadata": {},
   "outputs": [],
   "source": [
    "vgg1=VGG16()"
   ]
  },
  {
   "cell_type": "code",
   "execution_count": 105,
   "metadata": {},
   "outputs": [
    {
     "name": "stdout",
     "output_type": "stream",
     "text": [
      "Model: \"vgg16\"\n",
      "_________________________________________________________________\n",
      "Layer (type)                 Output Shape              Param #   \n",
      "=================================================================\n",
      "input_3 (InputLayer)         [(None, 224, 224, 3)]     0         \n",
      "_________________________________________________________________\n",
      "block1_conv1 (Conv2D)        (None, 224, 224, 64)      1792      \n",
      "_________________________________________________________________\n",
      "block1_conv2 (Conv2D)        (None, 224, 224, 64)      36928     \n",
      "_________________________________________________________________\n",
      "block1_pool (MaxPooling2D)   (None, 112, 112, 64)      0         \n",
      "_________________________________________________________________\n",
      "block2_conv1 (Conv2D)        (None, 112, 112, 128)     73856     \n",
      "_________________________________________________________________\n",
      "block2_conv2 (Conv2D)        (None, 112, 112, 128)     147584    \n",
      "_________________________________________________________________\n",
      "block2_pool (MaxPooling2D)   (None, 56, 56, 128)       0         \n",
      "_________________________________________________________________\n",
      "block3_conv1 (Conv2D)        (None, 56, 56, 256)       295168    \n",
      "_________________________________________________________________\n",
      "block3_conv2 (Conv2D)        (None, 56, 56, 256)       590080    \n",
      "_________________________________________________________________\n",
      "block3_conv3 (Conv2D)        (None, 56, 56, 256)       590080    \n",
      "_________________________________________________________________\n",
      "block3_pool (MaxPooling2D)   (None, 28, 28, 256)       0         \n",
      "_________________________________________________________________\n",
      "block4_conv1 (Conv2D)        (None, 28, 28, 512)       1180160   \n",
      "_________________________________________________________________\n",
      "block4_conv2 (Conv2D)        (None, 28, 28, 512)       2359808   \n",
      "_________________________________________________________________\n",
      "block4_conv3 (Conv2D)        (None, 28, 28, 512)       2359808   \n",
      "_________________________________________________________________\n",
      "block4_pool (MaxPooling2D)   (None, 14, 14, 512)       0         \n",
      "_________________________________________________________________\n",
      "block5_conv1 (Conv2D)        (None, 14, 14, 512)       2359808   \n",
      "_________________________________________________________________\n",
      "block5_conv2 (Conv2D)        (None, 14, 14, 512)       2359808   \n",
      "_________________________________________________________________\n",
      "block5_conv3 (Conv2D)        (None, 14, 14, 512)       2359808   \n",
      "_________________________________________________________________\n",
      "block5_pool (MaxPooling2D)   (None, 7, 7, 512)         0         \n",
      "_________________________________________________________________\n",
      "flatten (Flatten)            (None, 25088)             0         \n",
      "_________________________________________________________________\n",
      "fc1 (Dense)                  (None, 4096)              102764544 \n",
      "_________________________________________________________________\n",
      "fc2 (Dense)                  (None, 4096)              16781312  \n",
      "_________________________________________________________________\n",
      "predictions (Dense)          (None, 1000)              4097000   \n",
      "=================================================================\n",
      "Total params: 138,357,544\n",
      "Trainable params: 138,357,544\n",
      "Non-trainable params: 0\n",
      "_________________________________________________________________\n"
     ]
    }
   ],
   "source": [
    "vgg1.summary()"
   ]
  },
  {
   "cell_type": "code",
   "execution_count": 106,
   "metadata": {},
   "outputs": [],
   "source": [
    "from keras import Sequential"
   ]
  },
  {
   "cell_type": "code",
   "execution_count": 107,
   "metadata": {},
   "outputs": [],
   "source": [
    "model1=Sequential()"
   ]
  },
  {
   "cell_type": "code",
   "execution_count": 108,
   "metadata": {},
   "outputs": [],
   "source": [
    "for layer in vgg1.layers[:-1]:\n",
    "    model1.add(layer)"
   ]
  },
  {
   "cell_type": "code",
   "execution_count": 109,
   "metadata": {},
   "outputs": [
    {
     "name": "stdout",
     "output_type": "stream",
     "text": [
      "Model: \"sequential_2\"\n",
      "_________________________________________________________________\n",
      "Layer (type)                 Output Shape              Param #   \n",
      "=================================================================\n",
      "block1_conv1 (Conv2D)        (None, 224, 224, 64)      1792      \n",
      "_________________________________________________________________\n",
      "block1_conv2 (Conv2D)        (None, 224, 224, 64)      36928     \n",
      "_________________________________________________________________\n",
      "block1_pool (MaxPooling2D)   (None, 112, 112, 64)      0         \n",
      "_________________________________________________________________\n",
      "block2_conv1 (Conv2D)        (None, 112, 112, 128)     73856     \n",
      "_________________________________________________________________\n",
      "block2_conv2 (Conv2D)        (None, 112, 112, 128)     147584    \n",
      "_________________________________________________________________\n",
      "block2_pool (MaxPooling2D)   (None, 56, 56, 128)       0         \n",
      "_________________________________________________________________\n",
      "block3_conv1 (Conv2D)        (None, 56, 56, 256)       295168    \n",
      "_________________________________________________________________\n",
      "block3_conv2 (Conv2D)        (None, 56, 56, 256)       590080    \n",
      "_________________________________________________________________\n",
      "block3_conv3 (Conv2D)        (None, 56, 56, 256)       590080    \n",
      "_________________________________________________________________\n",
      "block3_pool (MaxPooling2D)   (None, 28, 28, 256)       0         \n",
      "_________________________________________________________________\n",
      "block4_conv1 (Conv2D)        (None, 28, 28, 512)       1180160   \n",
      "_________________________________________________________________\n",
      "block4_conv2 (Conv2D)        (None, 28, 28, 512)       2359808   \n",
      "_________________________________________________________________\n",
      "block4_conv3 (Conv2D)        (None, 28, 28, 512)       2359808   \n",
      "_________________________________________________________________\n",
      "block4_pool (MaxPooling2D)   (None, 14, 14, 512)       0         \n",
      "_________________________________________________________________\n",
      "block5_conv1 (Conv2D)        (None, 14, 14, 512)       2359808   \n",
      "_________________________________________________________________\n",
      "block5_conv2 (Conv2D)        (None, 14, 14, 512)       2359808   \n",
      "_________________________________________________________________\n",
      "block5_conv3 (Conv2D)        (None, 14, 14, 512)       2359808   \n",
      "_________________________________________________________________\n",
      "block5_pool (MaxPooling2D)   (None, 7, 7, 512)         0         \n",
      "_________________________________________________________________\n",
      "flatten (Flatten)            (None, 25088)             0         \n",
      "_________________________________________________________________\n",
      "fc1 (Dense)                  (None, 4096)              102764544 \n",
      "_________________________________________________________________\n",
      "fc2 (Dense)                  (None, 4096)              16781312  \n",
      "=================================================================\n",
      "Total params: 134,260,544\n",
      "Trainable params: 134,260,544\n",
      "Non-trainable params: 0\n",
      "_________________________________________________________________\n"
     ]
    }
   ],
   "source": [
    "model1.summary()"
   ]
  },
  {
   "cell_type": "code",
   "execution_count": 110,
   "metadata": {},
   "outputs": [],
   "source": [
    "for layer in model1.layers:\n",
    "    layer.trainable=False"
   ]
  },
  {
   "cell_type": "code",
   "execution_count": 111,
   "metadata": {},
   "outputs": [
    {
     "name": "stdout",
     "output_type": "stream",
     "text": [
      "Model: \"sequential_2\"\n",
      "_________________________________________________________________\n",
      "Layer (type)                 Output Shape              Param #   \n",
      "=================================================================\n",
      "block1_conv1 (Conv2D)        (None, 224, 224, 64)      1792      \n",
      "_________________________________________________________________\n",
      "block1_conv2 (Conv2D)        (None, 224, 224, 64)      36928     \n",
      "_________________________________________________________________\n",
      "block1_pool (MaxPooling2D)   (None, 112, 112, 64)      0         \n",
      "_________________________________________________________________\n",
      "block2_conv1 (Conv2D)        (None, 112, 112, 128)     73856     \n",
      "_________________________________________________________________\n",
      "block2_conv2 (Conv2D)        (None, 112, 112, 128)     147584    \n",
      "_________________________________________________________________\n",
      "block2_pool (MaxPooling2D)   (None, 56, 56, 128)       0         \n",
      "_________________________________________________________________\n",
      "block3_conv1 (Conv2D)        (None, 56, 56, 256)       295168    \n",
      "_________________________________________________________________\n",
      "block3_conv2 (Conv2D)        (None, 56, 56, 256)       590080    \n",
      "_________________________________________________________________\n",
      "block3_conv3 (Conv2D)        (None, 56, 56, 256)       590080    \n",
      "_________________________________________________________________\n",
      "block3_pool (MaxPooling2D)   (None, 28, 28, 256)       0         \n",
      "_________________________________________________________________\n",
      "block4_conv1 (Conv2D)        (None, 28, 28, 512)       1180160   \n",
      "_________________________________________________________________\n",
      "block4_conv2 (Conv2D)        (None, 28, 28, 512)       2359808   \n",
      "_________________________________________________________________\n",
      "block4_conv3 (Conv2D)        (None, 28, 28, 512)       2359808   \n",
      "_________________________________________________________________\n",
      "block4_pool (MaxPooling2D)   (None, 14, 14, 512)       0         \n",
      "_________________________________________________________________\n",
      "block5_conv1 (Conv2D)        (None, 14, 14, 512)       2359808   \n",
      "_________________________________________________________________\n",
      "block5_conv2 (Conv2D)        (None, 14, 14, 512)       2359808   \n",
      "_________________________________________________________________\n",
      "block5_conv3 (Conv2D)        (None, 14, 14, 512)       2359808   \n",
      "_________________________________________________________________\n",
      "block5_pool (MaxPooling2D)   (None, 7, 7, 512)         0         \n",
      "_________________________________________________________________\n",
      "flatten (Flatten)            (None, 25088)             0         \n",
      "_________________________________________________________________\n",
      "fc1 (Dense)                  (None, 4096)              102764544 \n",
      "_________________________________________________________________\n",
      "fc2 (Dense)                  (None, 4096)              16781312  \n",
      "=================================================================\n",
      "Total params: 134,260,544\n",
      "Trainable params: 0\n",
      "Non-trainable params: 134,260,544\n",
      "_________________________________________________________________\n"
     ]
    }
   ],
   "source": [
    "model1.summary()"
   ]
  },
  {
   "cell_type": "code",
   "execution_count": 112,
   "metadata": {},
   "outputs": [],
   "source": [
    "from keras.layers import Dense"
   ]
  },
  {
   "cell_type": "code",
   "execution_count": 113,
   "metadata": {},
   "outputs": [],
   "source": [
    "model1.add(Dense(1,activation='sigmoid'))"
   ]
  },
  {
   "cell_type": "code",
   "execution_count": 114,
   "metadata": {},
   "outputs": [
    {
     "name": "stdout",
     "output_type": "stream",
     "text": [
      "Model: \"sequential_2\"\n",
      "_________________________________________________________________\n",
      "Layer (type)                 Output Shape              Param #   \n",
      "=================================================================\n",
      "block1_conv1 (Conv2D)        (None, 224, 224, 64)      1792      \n",
      "_________________________________________________________________\n",
      "block1_conv2 (Conv2D)        (None, 224, 224, 64)      36928     \n",
      "_________________________________________________________________\n",
      "block1_pool (MaxPooling2D)   (None, 112, 112, 64)      0         \n",
      "_________________________________________________________________\n",
      "block2_conv1 (Conv2D)        (None, 112, 112, 128)     73856     \n",
      "_________________________________________________________________\n",
      "block2_conv2 (Conv2D)        (None, 112, 112, 128)     147584    \n",
      "_________________________________________________________________\n",
      "block2_pool (MaxPooling2D)   (None, 56, 56, 128)       0         \n",
      "_________________________________________________________________\n",
      "block3_conv1 (Conv2D)        (None, 56, 56, 256)       295168    \n",
      "_________________________________________________________________\n",
      "block3_conv2 (Conv2D)        (None, 56, 56, 256)       590080    \n",
      "_________________________________________________________________\n",
      "block3_conv3 (Conv2D)        (None, 56, 56, 256)       590080    \n",
      "_________________________________________________________________\n",
      "block3_pool (MaxPooling2D)   (None, 28, 28, 256)       0         \n",
      "_________________________________________________________________\n",
      "block4_conv1 (Conv2D)        (None, 28, 28, 512)       1180160   \n",
      "_________________________________________________________________\n",
      "block4_conv2 (Conv2D)        (None, 28, 28, 512)       2359808   \n",
      "_________________________________________________________________\n",
      "block4_conv3 (Conv2D)        (None, 28, 28, 512)       2359808   \n",
      "_________________________________________________________________\n",
      "block4_pool (MaxPooling2D)   (None, 14, 14, 512)       0         \n",
      "_________________________________________________________________\n",
      "block5_conv1 (Conv2D)        (None, 14, 14, 512)       2359808   \n",
      "_________________________________________________________________\n",
      "block5_conv2 (Conv2D)        (None, 14, 14, 512)       2359808   \n",
      "_________________________________________________________________\n",
      "block5_conv3 (Conv2D)        (None, 14, 14, 512)       2359808   \n",
      "_________________________________________________________________\n",
      "block5_pool (MaxPooling2D)   (None, 7, 7, 512)         0         \n",
      "_________________________________________________________________\n",
      "flatten (Flatten)            (None, 25088)             0         \n",
      "_________________________________________________________________\n",
      "fc1 (Dense)                  (None, 4096)              102764544 \n",
      "_________________________________________________________________\n",
      "fc2 (Dense)                  (None, 4096)              16781312  \n",
      "_________________________________________________________________\n",
      "dense_2 (Dense)              (None, 1)                 4097      \n",
      "=================================================================\n",
      "Total params: 134,264,641\n",
      "Trainable params: 4,097\n",
      "Non-trainable params: 134,260,544\n",
      "_________________________________________________________________\n"
     ]
    }
   ],
   "source": [
    "model1.summary()"
   ]
  },
  {
   "cell_type": "code",
   "execution_count": 115,
   "metadata": {},
   "outputs": [],
   "source": [
    "model1.compile(optimizer='Adam',loss='binary_crossentropy',metrics=['accuracy'])"
   ]
  },
  {
   "cell_type": "code",
   "execution_count": 116,
   "metadata": {},
   "outputs": [
    {
     "name": "stdout",
     "output_type": "stream",
     "text": [
      "Thread: Thread-51, start index: 0, end index: 50\n",
      "Thread: Thread-52, start index: 50, end index: 100\n"
     ]
    },
    {
     "name": "stderr",
     "output_type": "stream",
     "text": [
      "Exception in thread Thread-51:\n",
      "Exception in thread Thread-52:\n",
      "Traceback (most recent call last):\n",
      "  File \"C:\\Users\\User\\anaconda3\\lib\\threading.py\", line 932, in _bootstrap_inner\n",
      "Traceback (most recent call last):\n",
      "  File \"C:\\Users\\User\\anaconda3\\lib\\threading.py\", line 932, in _bootstrap_inner\n",
      "Exception in thread Thread-53:\n",
      "Traceback (most recent call last):\n",
      "  File \"C:\\Users\\User\\anaconda3\\lib\\threading.py\", line 932, in _bootstrap_inner\n",
      "    self.run()\n",
      "Exception in thread Thread-54:\n",
      "Traceback (most recent call last):\n",
      "    self.run()\n",
      "  File \"C:\\Users\\User\\anaconda3\\lib\\threading.py\", line 870, in run\n",
      "  File \"C:\\Users\\User\\anaconda3\\lib\\threading.py\", line 932, in _bootstrap_inner\n",
      "      File \"C:\\Users\\User\\anaconda3\\lib\\threading.py\", line 870, in run\n",
      "self.run()\n",
      "  File \"C:\\Users\\User\\anaconda3\\lib\\threading.py\", line 870, in run\n",
      "        self.run()\n",
      "  File \"C:\\Users\\User\\anaconda3\\lib\\threading.py\", line 870, in run\n",
      "self._target(*self._args, **self._kwargs)\n",
      "  File \"<ipython-input-96-a55f7c2c901b>\", line 4, in get_img_array_labels\n",
      "        self._target(*self._args, **self._kwargs)\n",
      "  File \"<ipython-input-96-a55f7c2c901b>\", line 4, in get_img_array_labels\n",
      "self._target(*self._args, **self._kwargs)\n",
      "  File \"<ipython-input-96-a55f7c2c901b>\", line 4, in get_img_array_labels\n",
      "    self._target(*self._args, **self._kwargs)\n",
      "  File \"<ipython-input-96-a55f7c2c901b>\", line 4, in get_img_array_labels\n",
      "Exception in thread Thread-55:\n",
      "Traceback (most recent call last):\n",
      "  File \"C:\\Users\\User\\anaconda3\\lib\\threading.py\", line 932, in _bootstrap_inner\n",
      "    Exception in thread Thread-56:\n",
      "Traceback (most recent call last):\n",
      "  File \"C:\\Users\\User\\anaconda3\\lib\\threading.py\", line 932, in _bootstrap_inner\n",
      "self.run()\n",
      "  File \"C:\\Users\\User\\anaconda3\\lib\\threading.py\", line 870, in run\n"
     ]
    },
    {
     "name": "stdout",
     "output_type": "stream",
     "text": [
      "Thread: Thread-53, start index: 100, end index: 150\n",
      "Thread: Thread-54, start index: 150, end index: 200\n",
      "Thread: Thread-55, start index: 200, end index: 250\n",
      "Thread: Thread-56, start index: 250, end index: 300\n",
      "Thread: Thread-57, start index: 300, end index: 350\n"
     ]
    },
    {
     "name": "stderr",
     "output_type": "stream",
     "text": [
      "    self.run()\n",
      "  File \"C:\\Users\\User\\anaconda3\\lib\\threading.py\", line 870, in run\n",
      "    self._target(*self._args, **self._kwargs)\n",
      "  File \"<ipython-input-96-a55f7c2c901b>\", line 4, in get_img_array_labels\n",
      "Exception in thread Thread-57:\n",
      "Traceback (most recent call last):\n",
      "  File \"C:\\Users\\User\\anaconda3\\lib\\threading.py\", line 932, in _bootstrap_inner\n",
      "    self._target(*self._args, **self._kwargs)\n",
      "      File \"<ipython-input-96-a55f7c2c901b>\", line 4, in get_img_array_labels\n",
      "self.run()\n",
      "  File \"C:\\Users\\User\\anaconda3\\lib\\threading.py\", line 870, in run\n",
      "    self._target(*self._args, **self._kwargs)\n",
      "  File \"<ipython-input-96-a55f7c2c901b>\", line 4, in get_img_array_labels\n",
      "Exception in thread Thread-58:\n",
      "Traceback (most recent call last):\n",
      "  File \"C:\\Users\\User\\anaconda3\\lib\\threading.py\", line 932, in _bootstrap_inner\n",
      "Exception in thread     self.run()\n",
      "  File \"C:\\Users\\User\\anaconda3\\lib\\threading.py\", line 870, in run\n",
      "Thread-59:\n",
      "Traceback (most recent call last):\n",
      "  File \"C:\\Users\\User\\anaconda3\\lib\\threading.py\", line 932, in _bootstrap_inner\n",
      "Exception in thread Thread-60:\n",
      "Traceback (most recent call last):\n",
      "  File \"C:\\Users\\User\\anaconda3\\lib\\threading.py\", line 932, in _bootstrap_inner\n",
      "    self.run()\n",
      "  File \"C:\\Users\\User\\anaconda3\\lib\\threading.py\", line 870, in run\n",
      "    self._target(*self._args, **self._kwargs)\n",
      "  File \"<ipython-input-96-a55f7c2c901b>\", line 4, in get_img_array_labels\n",
      "ValueError: The truth value of an array with more than one element is ambiguous. Use a.any() or a.all()\n",
      "ValueError: The truth value of an array with more than one element is ambiguous. Use a.any() or a.all()\n",
      "ValueError: Exception in thread The truth value of an array with more than one element is ambiguous. Use a.any() or a.all()\n",
      "ValueError: The truth value of an array with more than one element is ambiguous. Use a.any() or a.all()ValueError: The truth value of an array with more than one element is ambiguous. Use a.any() or a.all()\n",
      "\n",
      "ValueErrorValueError: The truth value of an array with more than one element is ambiguous. Use a.any() or a.all()\n",
      "Exception in thread "
     ]
    },
    {
     "name": "stdout",
     "output_type": "stream",
     "text": [
      "Thread: Thread-58, start index: 350, end index: 400\n",
      "Thread: Thread-59, start index: 400, end index: 450\n",
      "Thread: Thread-60, start index: 450, end index: 500\n",
      "Thread: Thread-61, start index: 500, end index: 550\n",
      "Thread: Thread-62, start index: 550, end index: 600\n"
     ]
    },
    {
     "name": "stderr",
     "output_type": "stream",
     "text": [
      ": The truth value of an array with more than one element is ambiguous. Use a.any() or a.all()\n",
      "Exception in thread Thread-62:\n",
      "Traceback (most recent call last):\n",
      "  File \"C:\\Users\\User\\anaconda3\\lib\\threading.py\", line 932, in _bootstrap_inner\n",
      "    self._target(*self._args, **self._kwargs)\n",
      "  File \"<ipython-input-96-a55f7c2c901b>\", line 4, in get_img_array_labels\n",
      "Thread-61Thread-63:\n",
      "Traceback (most recent call last):\n",
      "  File \"C:\\Users\\User\\anaconda3\\lib\\threading.py\", line 932, in _bootstrap_inner\n",
      ":\n",
      "Traceback (most recent call last):\n",
      "  File \"C:\\Users\\User\\anaconda3\\lib\\threading.py\", line 932, in _bootstrap_inner\n",
      "    Exception in thread Thread-64self.run()\n",
      "  File \"C:\\Users\\User\\anaconda3\\lib\\threading.py\", line 870, in run\n",
      "    self.run()\n",
      "  File \"C:\\Users\\User\\anaconda3\\lib\\threading.py\", line 870, in run\n",
      ":\n",
      "Traceback (most recent call last):\n",
      "  File \"C:\\Users\\User\\anaconda3\\lib\\threading.py\", line 932, in _bootstrap_inner\n",
      "    self.run()\n",
      "  File \"C:\\Users\\User\\anaconda3\\lib\\threading.py\", line 870, in run\n",
      "    self.run()\n",
      "  File \"C:\\Users\\User\\anaconda3\\lib\\threading.py\", line 870, in run\n",
      "    ValueError: The truth value of an array with more than one element is ambiguous. Use a.any() or a.all()\n",
      "    self._target(*self._args, **self._kwargs)\n",
      "  File \"<ipython-input-96-a55f7c2c901b>\", line 4, in get_img_array_labels\n",
      "self._target(*self._args, **self._kwargs)    self._target(*self._args, **self._kwargs)\n",
      "  File \"<ipython-input-96-a55f7c2c901b>\", line 4, in get_img_array_labels\n",
      "    self._target(*self._args, **self._kwargs)\n",
      "  File \"<ipython-input-96-a55f7c2c901b>\", line 4, in get_img_array_labels\n",
      "    self.run()\n",
      "  File \"C:\\Users\\User\\anaconda3\\lib\\threading.py\", line 870, in run\n",
      "\n",
      "  File \"<ipython-input-96-a55f7c2c901b>\", line 4, in get_img_array_labels\n",
      "ValueError    self._target(*self._args, **self._kwargs)Exception in thread Thread-65:\n",
      "Traceback (most recent call last):\n",
      "  File \"C:\\Users\\User\\anaconda3\\lib\\threading.py\", line 932, in _bootstrap_inner\n",
      ": \n",
      "  File \"<ipython-input-96-a55f7c2c901b>\", line 4, in get_img_array_labels\n",
      "The truth value of an array with more than one element is ambiguous. Use a.any() or a.all()\n",
      "ValueError: The truth value of an array with more than one element is ambiguous. Use a.any() or a.all()\n",
      "    self.run()\n",
      "  File \"C:\\Users\\User\\anaconda3\\lib\\threading.py\", line 870, in run\n",
      "ValueError: The truth value of an array with more than one element is ambiguous. Use a.any() or a.all()\n",
      "ValueError: ValueError: The truth value of an array with more than one element is ambiguous. Use a.any() or a.all()\n",
      "The truth value of an array with more than one element is ambiguous. Use a.any() or a.all()\n",
      "ValueError: The truth value of an array with more than one element is ambiguous. Use a.any() or a.all()\n",
      "    self._target(*self._args, **self._kwargs)\n",
      "  File \"<ipython-input-96-a55f7c2c901b>\", line 4, in get_img_array_labels\n",
      "ValueError: The truth value of an array with more than one element is ambiguous. Use a.any() or a.all()\n"
     ]
    },
    {
     "name": "stdout",
     "output_type": "stream",
     "text": [
      "Thread: Thread-63, start index: 600, end index: 650\n",
      "Thread: Thread-64, start index: 650, end index: 700\n",
      "Thread: Thread-65, start index: 700, end index: 750\n"
     ]
    }
   ],
   "source": [
    "x_train1,y_train1=get_training_data()"
   ]
  },
  {
   "cell_type": "code",
   "execution_count": 117,
   "metadata": {},
   "outputs": [
    {
     "name": "stdout",
     "output_type": "stream",
     "text": [
      "Thread: Thread-66, start index: 0, end index: 50\n",
      "Thread: {} joined Thread-66\n",
      "Thread: Thread-67, start index: 50, end index: 100\n",
      "Thread: {} joined Thread-67\n",
      "Thread: Thread-68, start index: 100, end index: 150\n",
      "Thread: {} joined Thread-68\n",
      "Thread: Thread-69, start index: 150, end index: 200\n",
      "Thread: {} joined Thread-69\n",
      "Thread: Thread-70, start index: 200, end index: 250\n",
      "Thread: {} joined Thread-70\n",
      "Thread: Thread-71, start index: 250, end index: 300\n",
      "Thread: {} joined Thread-71\n",
      "Thread: Thread-72, start index: 300, end index: 350\n",
      "Thread: {} joined Thread-72\n",
      "Thread: Thread-73, start index: 350, end index: 400\n",
      "Thread: {} joined Thread-73\n",
      "Thread: Thread-74, start index: 400, end index: 450\n",
      "Thread: {} joined Thread-74\n",
      "Thread: Thread-75, start index: 450, end index: 500\n",
      "Thread: {} joined Thread-75\n",
      "Thread: Thread-76, start index: 500, end index: 550\n",
      "Thread: {} joined Thread-76\n",
      "Thread: Thread-77, start index: 550, end index: 600\n",
      "Thread: {} joined Thread-77\n",
      "Thread: Thread-78, start index: 600, end index: 650\n",
      "Thread: {} joined Thread-78\n",
      "Thread: Thread-79, start index: 650, end index: 700\n",
      "Thread: {} joined Thread-79\n",
      "Thread: Thread-80, start index: 700, end index: 750\n",
      "Thread: {} joined Thread-80\n"
     ]
    },
    {
     "ename": "ValueError",
     "evalue": "too many values to unpack (expected 2)",
     "output_type": "error",
     "traceback": [
      "\u001b[1;31m---------------------------------------------------------------------------\u001b[0m",
      "\u001b[1;31mValueError\u001b[0m                                Traceback (most recent call last)",
      "\u001b[1;32m<ipython-input-117-124faf995f38>\u001b[0m in \u001b[0;36m<module>\u001b[1;34m\u001b[0m\n\u001b[1;32m----> 1\u001b[1;33m \u001b[0mx_test1\u001b[0m\u001b[1;33m,\u001b[0m\u001b[0my_test1\u001b[0m\u001b[1;33m=\u001b[0m\u001b[0mget_testing_data\u001b[0m\u001b[1;33m(\u001b[0m\u001b[1;33m)\u001b[0m\u001b[1;33m\u001b[0m\u001b[1;33m\u001b[0m\u001b[0m\n\u001b[0m",
      "\u001b[1;31mValueError\u001b[0m: too many values to unpack (expected 2)"
     ]
    }
   ],
   "source": [
    "x_test1,y_test1=get_testing_data()"
   ]
  },
  {
   "cell_type": "code",
   "execution_count": null,
   "metadata": {},
   "outputs": [],
   "source": [
    "model1.fit(x_train1,y_train1,epochs=3,validation_data=(x_test1,y_test1))"
   ]
  },
  {
   "cell_type": "code",
   "execution_count": null,
   "metadata": {},
   "outputs": [],
   "source": []
  }
 ],
 "metadata": {
  "kernelspec": {
   "display_name": "Python 3",
   "language": "python",
   "name": "python3"
  }
 },
 "nbformat": 4,
 "nbformat_minor": 4
}
