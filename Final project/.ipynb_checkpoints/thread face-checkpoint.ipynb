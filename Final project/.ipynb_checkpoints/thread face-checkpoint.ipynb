version https://git-lfs.github.com/spec/v1
oid sha256:ccff25e79fdb0b2de128de9b9d1bf760c2179e27f73a5e4bf9ab73259e88b8bc
size 42776
