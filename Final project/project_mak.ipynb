version https://git-lfs.github.com/spec/v1
oid sha256:fc3ff357af5b4ee7f4daf5280431fab9ac9c349bd0365008595fc3e72eafe7d6
size 22361
