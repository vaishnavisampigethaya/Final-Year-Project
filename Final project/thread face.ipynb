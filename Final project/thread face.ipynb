{
 "cells": [
  {
   "cell_type": "code",
   "execution_count": 157,
   "metadata": {},
   "outputs": [],
   "source": [
    "from keras.layers import Input,Lambda,Dense,Flatten\n",
    "from keras.models import Model\n",
    "from keras.applications.vgg16 import VGG16\n",
    "from keras.applications.vgg16 import preprocess_input\n",
    "from keras.preprocessing import image\n",
    "from keras.preprocessing.image import ImageDataGenerator\n",
    "from keras.models import Sequential\n",
    "import numpy as np\n",
    "from glob import glob\n",
    "import matplotlib.pyplot as plt\n",
    "import os\n",
    "import cv2\n",
    "import tensorflow as tf\n",
    "from keras.applications.vgg16 import decode_predictions\n",
    "from threading import current_thread, Thread, Lock\n",
    "from multiprocessing import Queue"
   ]
  },
  {
   "cell_type": "code",
   "execution_count": 158,
   "metadata": {},
   "outputs": [],
   "source": [
    "categories=['train','test']\n",
    "categories1=['without_mask','with_mask']\n"
   ]
  },
  {
   "cell_type": "code",
   "execution_count": 159,
   "metadata": {},
   "outputs": [],
   "source": [
    "data1=[]\n",
    "for category in categories1:\n",
    "    path=os.path.join('Dataset',category)\n",
    "    label1=categories1.index(category)\n",
    "    for file in os.listdir(path):\n",
    "       img_path=os.path.join(path,file)\n",
    "       img=cv2.imread(img_path)\n",
    "       img=cv2.resize(img,(224,224))\n",
    "       data1.append([img,label1])\n",
    "    "
   ]
  },
  {
   "cell_type": "code",
   "execution_count": 160,
   "metadata": {},
   "outputs": [],
   "source": [
    "data=[]\n",
    "cate=[]\n",
    "for category in categories:\n",
    "    path=os.path.join('Dataset',category)\n",
    "    for file in os.listdir(path):\n",
    "        if not file.startswith('.'):\n",
    "            img_path=os.path.join(path,file)\n",
    "            cate.append(file)\n",
    "            label=cate.index(file)\n",
    "            files=os.listdir(img_path)\n",
    "            for i in files:\n",
    "                p=os.path.join(img_path,i)\n",
    "                img_path=os.path.join(path,file)\n",
    "                #print(p)\n",
    "                img=cv2.imread(p)\n",
    "                img=cv2.resize(img,(224,224))\n",
    "                data.append([img,label])\n"
   ]
  },
  {
   "cell_type": "code",
   "execution_count": 161,
   "metadata": {},
   "outputs": [],
   "source": [
    "import random"
   ]
  },
  {
   "cell_type": "code",
   "execution_count": 162,
   "metadata": {},
   "outputs": [],
   "source": [
    "random.shuffle(data1)"
   ]
  },
  {
   "cell_type": "code",
   "execution_count": 163,
   "metadata": {},
   "outputs": [],
   "source": [
    "x1=[]\n",
    "y1=[]\n",
    "for features1,label1 in data1:\n",
    "    x1.append(features1)\n",
    "    y1.append(label1) "
   ]
  },
  {
   "cell_type": "code",
   "execution_count": 164,
   "metadata": {},
   "outputs": [],
   "source": [
    "import numpy as np"
   ]
  },
  {
   "cell_type": "code",
   "execution_count": 165,
   "metadata": {},
   "outputs": [],
   "source": [
    "x1=np.array(x1)\n",
    "y1=np.array(y1)"
   ]
  },
  {
   "cell_type": "code",
   "execution_count": 166,
   "metadata": {},
   "outputs": [
    {
     "data": {
      "text/plain": [
       "(1965,)"
      ]
     },
     "execution_count": 166,
     "metadata": {},
     "output_type": "execute_result"
    }
   ],
   "source": [
    "x1.shape\n",
    "y1.shape"
   ]
  },
  {
   "cell_type": "code",
   "execution_count": 167,
   "metadata": {},
   "outputs": [],
   "source": [
    "x1=x1/255"
   ]
  },
  {
   "cell_type": "code",
   "execution_count": 168,
   "metadata": {},
   "outputs": [
    {
     "data": {
      "text/plain": [
       "array([[[0.40392157, 0.38823529, 0.27843137],\n",
       "        [0.40784314, 0.39215686, 0.28235294],\n",
       "        [0.41568627, 0.4       , 0.28627451],\n",
       "        ...,\n",
       "        [0.94117647, 0.97254902, 0.96862745],\n",
       "        [0.96862745, 0.99215686, 0.98823529],\n",
       "        [0.96862745, 0.99215686, 0.98823529]],\n",
       "\n",
       "       [[0.40392157, 0.38823529, 0.27843137],\n",
       "        [0.40784314, 0.39215686, 0.28235294],\n",
       "        [0.41568627, 0.4       , 0.28627451],\n",
       "        ...,\n",
       "        [0.94509804, 0.97254902, 0.97254902],\n",
       "        [0.96862745, 0.99215686, 0.98823529],\n",
       "        [0.96862745, 0.99215686, 0.98823529]],\n",
       "\n",
       "       [[0.40392157, 0.38823529, 0.27843137],\n",
       "        [0.40784314, 0.39215686, 0.28235294],\n",
       "        [0.41568627, 0.4       , 0.28627451],\n",
       "        ...,\n",
       "        [0.94509804, 0.97647059, 0.97647059],\n",
       "        [0.96862745, 0.99215686, 0.98823529],\n",
       "        [0.96862745, 0.99215686, 0.98823529]],\n",
       "\n",
       "       ...,\n",
       "\n",
       "       [[0.27843137, 0.26666667, 0.18431373],\n",
       "        [0.28235294, 0.27058824, 0.18039216],\n",
       "        [0.29019608, 0.2745098 , 0.18431373],\n",
       "        ...,\n",
       "        [0.23529412, 0.4       , 0.61960784],\n",
       "        [0.23137255, 0.38039216, 0.58431373],\n",
       "        [0.23921569, 0.37647059, 0.57647059]],\n",
       "\n",
       "       [[0.29019608, 0.2745098 , 0.18039216],\n",
       "        [0.29411765, 0.27843137, 0.18431373],\n",
       "        [0.30196078, 0.28627451, 0.18823529],\n",
       "        ...,\n",
       "        [0.30196078, 0.47058824, 0.70588235],\n",
       "        [0.30588235, 0.45882353, 0.68235294],\n",
       "        [0.30980392, 0.4627451 , 0.67843137]],\n",
       "\n",
       "       [[0.29019608, 0.2745098 , 0.17647059],\n",
       "        [0.29411765, 0.27843137, 0.18039216],\n",
       "        [0.30196078, 0.28627451, 0.18823529],\n",
       "        ...,\n",
       "        [0.29803922, 0.4745098 , 0.71372549],\n",
       "        [0.30588235, 0.4627451 , 0.70196078],\n",
       "        [0.30980392, 0.46666667, 0.69803922]]])"
      ]
     },
     "execution_count": 168,
     "metadata": {},
     "output_type": "execute_result"
    }
   ],
   "source": [
    "x1[0]"
   ]
  },
  {
   "cell_type": "code",
   "execution_count": 169,
   "metadata": {},
   "outputs": [],
   "source": [
    "from sklearn.model_selection  import train_test_split\n",
    "x_train1,x_test1,y_train1,y_test1=train_test_split(x1,y1,test_size=0.2)"
   ]
  },
  {
   "cell_type": "code",
   "execution_count": 170,
   "metadata": {},
   "outputs": [
    {
     "data": {
      "text/plain": [
       "(393, 224, 224, 3)"
      ]
     },
     "execution_count": 170,
     "metadata": {},
     "output_type": "execute_result"
    }
   ],
   "source": [
    "x_train1.shape\n",
    "x_test1.shape"
   ]
  },
  {
   "cell_type": "code",
   "execution_count": 171,
   "metadata": {},
   "outputs": [],
   "source": [
    "batch_size = 50\n",
    "num_train_images = x_train1.shape[0]/2\n",
    "num_test_images = x_test1.shape[0]/2\n",
    "num_train_threads = int(num_train_images/batch_size)  # 50\n",
    "num_test_threads = int(num_test_images/batch_size)    # 25\n",
    "lock = Lock()"
   ]
  },
  {
   "cell_type": "code",
   "execution_count": 172,
   "metadata": {},
   "outputs": [],
   "source": [
    "def initialize_queue():\n",
    "    queue = Queue()\n",
    "    return queue"
   ]
  },
  {
   "cell_type": "code",
   "execution_count": 173,
   "metadata": {},
   "outputs": [],
   "source": [
    "def get_img_array_labels(fpaths, queue):\n",
    "    img_array=None\n",
    "    for i in range(0,x_train1.shape[0]):\n",
    "        if img_array==None:\n",
    "            img_array = x_train1[i]\n",
    "        else:\n",
    "            img_array = np.vstack((img_array, x_train1[i]))\n",
    "    queue.put((img_array, y_train1))\n",
    "    "
   ]
  },
  {
   "cell_type": "code",
   "execution_count": 174,
   "metadata": {},
   "outputs": [],
   "source": [
    "def get_img_array_labels1(fpaths, queue):\n",
    "    img_array=None\n",
    "    for i in range(0,x_test1.shape[0]):\n",
    "        if img_array==None:\n",
    "            img_array = x_test1[i]\n",
    "        else:\n",
    "            img_array = np.vstack((img_array, x_train1[i]))\n",
    "    queue.put((img_array, y_test1))"
   ]
  },
  {
   "cell_type": "code",
   "execution_count": 175,
   "metadata": {},
   "outputs": [],
   "source": [
    "def get_img_array(fpaths, queue):\n",
    "    img_array = None\n",
    "    for i in range(0,x_train1.shape[0]):\n",
    "        if img_array is None:\n",
    "            img_array = img\n",
    "        else:\n",
    "            img_array = np.vstack((img_array, img))        \n",
    "    queue.put(img_array)"
   ]
  },
  {
   "cell_type": "code",
   "execution_count": 176,
   "metadata": {},
   "outputs": [],
   "source": [
    "def get_img_array1(fpaths, queue):\n",
    "    img_array = None\n",
    "    for i in range(0,x_test1.shape[0]):\n",
    "        if img_array is None:\n",
    "            img_array = img\n",
    "        else:\n",
    "            img_array = np.vstack((img_array, img))        \n",
    "    queue.put(img_array)"
   ]
  },
  {
   "cell_type": "code",
   "execution_count": 177,
   "metadata": {},
   "outputs": [],
   "source": [
    "def dump_array(fname,arr):\n",
    "    with open(fname,'wb') as f:\n",
    "        pickle.dump(arr,f)"
   ]
  },
  {
   "cell_type": "code",
   "execution_count": 178,
   "metadata": {},
   "outputs": [],
   "source": [
    "def get_training_data():\n",
    "    threads_list = list()\n",
    "    train_x = None\n",
    "    train_y = []\n",
    "    queue = initialize_queue()\n",
    "    # iterate over num of threads to create\n",
    "    for thread_index in range(num_train_threads):\n",
    "        start_index = thread_index * batch_size\n",
    "        end_index = (thread_index + 1) * batch_size\n",
    "        file_batch = x_train1[start_index:end_index]\n",
    "        thread = Thread(target =get_img_array_labels, args=(file_batch, queue))\n",
    "        thread.start()\n",
    "        print(\"Thread: {}, start index: {}, end index: {}\".format(thread.name, start_index, end_index))\n",
    "        threads_list.append(thread)\n",
    "    \n",
    "    # join threads\n",
    "    for t in threads_list:\n",
    "        t.join()\n",
    "    while not queue.empty():\n",
    "        arr, labels = queue.get()\n",
    "        train_y.extend(label1)\n",
    "        if train_x is None:\n",
    "            train_x = arr\n",
    "        else:\n",
    "            train_x = np.vstack((train_x, arr))\n",
    "    return train_x, train_y"
   ]
  },
  {
   "cell_type": "code",
   "execution_count": 179,
   "metadata": {},
   "outputs": [],
   "source": [
    "def get_testing_data():\n",
    "    threads_list = list()\n",
    "    test_x = None\n",
    "    queue = initialize_queue()\n",
    "    # iterate over num of threads to create\n",
    "    for thread_index in range(num_test_threads):\n",
    "        start_index = thread_index * batch_size\n",
    "        end_index = (thread_index + 1) * batch_size\n",
    "        file_batch = x_test1[start_index:end_index]\n",
    "        thread = Thread(target =get_img_array1, args=(file_batch, queue))\n",
    "        thread.start()\n",
    "        print(\"Thread: {}, start index: {}, end index: {}\".format(thread.name, start_index, end_index))\n",
    "        threads_list.append(thread)\n",
    "        for t in threads_list:\n",
    "            t.join()\n",
    "        print(\"Thread: {} joined\", t.name)\n",
    "    while not queue.empty():\n",
    "        arr= queue.get()\n",
    "        if test_x is None:\n",
    "            test_x = arr\n",
    "        else:\n",
    "            test_x = np.vstack((test_x, arr))\n",
    "    return test_x"
   ]
  },
  {
   "cell_type": "code",
   "execution_count": 180,
   "metadata": {},
   "outputs": [],
   "source": [
    "from tensorflow.keras.applications.vgg16 import VGG16"
   ]
  },
  {
   "cell_type": "code",
   "execution_count": null,
   "metadata": {},
   "outputs": [],
   "source": [
    "vgg1=VGG16()"
   ]
  },
  {
   "cell_type": "code",
   "execution_count": null,
   "metadata": {},
   "outputs": [],
   "source": [
    "vgg1.summary()"
   ]
  },
  {
   "cell_type": "code",
   "execution_count": null,
   "metadata": {},
   "outputs": [],
   "source": [
    "from keras import Sequential"
   ]
  },
  {
   "cell_type": "code",
   "execution_count": null,
   "metadata": {},
   "outputs": [],
   "source": [
    "model1=Sequential()"
   ]
  },
  {
   "cell_type": "code",
   "execution_count": null,
   "metadata": {},
   "outputs": [],
   "source": [
    "for layer in vgg1.layers[:-1]:\n",
    "    model1.add(layer)"
   ]
  },
  {
   "cell_type": "code",
   "execution_count": null,
   "metadata": {},
   "outputs": [],
   "source": [
    "model1.summary()"
   ]
  },
  {
   "cell_type": "code",
   "execution_count": null,
   "metadata": {},
   "outputs": [],
   "source": [
    "for layer in model1.layers:\n",
    "    layer.trainable=False"
   ]
  },
  {
   "cell_type": "code",
   "execution_count": null,
   "metadata": {},
   "outputs": [],
   "source": [
    "model1.summary()"
   ]
  },
  {
   "cell_type": "code",
   "execution_count": null,
   "metadata": {},
   "outputs": [],
   "source": [
    "from keras.layers import Dense"
   ]
  },
  {
   "cell_type": "code",
   "execution_count": null,
   "metadata": {},
   "outputs": [],
   "source": [
    "model1.add(Dense(1,activation='sigmoid'))"
   ]
  },
  {
   "cell_type": "code",
   "execution_count": null,
   "metadata": {},
   "outputs": [],
   "source": [
    "model1.summary()"
   ]
  },
  {
   "cell_type": "code",
   "execution_count": null,
   "metadata": {},
   "outputs": [],
   "source": [
    "model1.compile(optimizer='Adam',loss='binary_crossentropy',metrics=['accuracy'])"
   ]
  },
  {
   "cell_type": "code",
   "execution_count": null,
   "metadata": {},
   "outputs": [],
   "source": [
    "x_train1,y_train1=get_training_data()"
   ]
  },
  {
   "cell_type": "code",
   "execution_count": null,
   "metadata": {},
   "outputs": [],
   "source": [
    "x_test1,y_test1=get_testing_data()"
   ]
  },
  {
   "cell_type": "code",
   "execution_count": null,
   "metadata": {},
   "outputs": [],
   "source": [
    "model1.fit(x_train1,y_train1,epochs=3,validation_data=(x_test1,y_test1))"
   ]
  },
  {
   "cell_type": "code",
   "execution_count": null,
   "metadata": {},
   "outputs": [],
   "source": []
  }
 ],
 "metadata": {
  "kernelspec": {
   "display_name": "Python 3",
   "language": "python",
   "name": "python3"
  }
 },
 "nbformat": 4,
 "nbformat_minor": 4
}
